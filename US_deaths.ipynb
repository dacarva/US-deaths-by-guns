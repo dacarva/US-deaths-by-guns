{
 "cells": [
  {
   "cell_type": "code",
   "execution_count": 7,
   "metadata": {
    "collapsed": false
   },
   "outputs": [
    {
     "name": "stdout",
     "output_type": "stream",
     "text": [
      "[['1', '2012', '01', 'Suicide', '0', 'M', '34', 'Asian/Pacific Islander', '100', 'Home', '4'], ['2', '2012', '01', 'Suicide', '0', 'F', '21', 'White', '100', 'Street', '3'], ['3', '2012', '01', 'Suicide', '0', 'M', '60', 'White', '100', 'Other specified', '4'], ['4', '2012', '02', 'Suicide', '0', 'M', '64', 'White', '100', 'Home', '4'], ['5', '2012', '02', 'Suicide', '0', 'M', '31', 'White', '100', 'Other specified', '2']]\n"
     ]
    }
   ],
   "source": [
    "import csv\n",
    "f = open('guns.csv')\n",
    "reader = csv.reader(f)\n",
    "data = list(reader)\n",
    "headers = data[0:1]\n",
    "data = data[1:len(data)]\n",
    "print(data[0:5])"
   ]
  },
  {
   "cell_type": "code",
   "execution_count": 8,
   "metadata": {
    "collapsed": false
   },
   "outputs": [
    {
     "name": "stdout",
     "output_type": "stream",
     "text": [
      "{'2012': 33563, '2013': 33636, '2014': 33599}\n"
     ]
    }
   ],
   "source": [
    "years = [row[1] for row in data]\n",
    "#print(years[0:5])\n",
    "year_counts = {}\n",
    "for year in years:\n",
    "    if(year in year_counts):\n",
    "        year_counts[year] += 1\n",
    "    else:\n",
    "        year_counts[year] = 1\n",
    "print(year_counts)        "
   ]
  },
  {
   "cell_type": "code",
   "execution_count": 9,
   "metadata": {
    "collapsed": false
   },
   "outputs": [],
   "source": [
    "import datetime\n",
    "dates = [datetime.datetime(year = int(row[1]),month = int(row[2]), day = 1) for row in data]\n",
    "date_counts = {}\n",
    "for date in dates:\n",
    "    if(date in date_counts):\n",
    "        date_counts[date] += 1\n",
    "    else:\n",
    "        date_counts[date] = 1\n",
    "#print(date_counts) "
   ]
  },
  {
   "cell_type": "code",
   "execution_count": 10,
   "metadata": {
    "collapsed": false
   },
   "outputs": [
    {
     "name": "stdout",
     "output_type": "stream",
     "text": [
      "{'M': 86349, 'F': 14449}\n"
     ]
    }
   ],
   "source": [
    "sexes = [row[5] for row in data]\n",
    "sex_counts = {}\n",
    "for sex in sexes:\n",
    "    if(sex in sex_counts):\n",
    "        sex_counts[sex] += 1\n",
    "    else:\n",
    "        sex_counts[sex] = 1\n",
    "print(sex_counts)        "
   ]
  },
  {
   "cell_type": "code",
   "execution_count": 11,
   "metadata": {
    "collapsed": false
   },
   "outputs": [
    {
     "name": "stdout",
     "output_type": "stream",
     "text": [
      "{'Asian/Pacific Islander': 1326, 'White': 66237, 'Native American/Native Alaskan': 917, 'Black': 23296, 'Hispanic': 9022}\n"
     ]
    }
   ],
   "source": [
    "races = [row[7] for row in data]\n",
    "race_counts = {}\n",
    "for race in races:\n",
    "    if(race in race_counts):\n",
    "        race_counts[race] += 1\n",
    "    else:\n",
    "        race_counts[race] = 1\n",
    "print(race_counts)  "
   ]
  },
  {
   "cell_type": "markdown",
   "metadata": {},
   "source": [
    "# Deaths in the US\n",
    "Mostly men. White is the largest, followed by Black and Hispanic"
   ]
  },
  {
   "cell_type": "code",
   "execution_count": 12,
   "metadata": {
    "collapsed": false
   },
   "outputs": [
    {
     "name": "stdout",
     "output_type": "stream",
     "text": [
      "[['', 'Id', 'Year', 'Id.1', 'Sex', 'Id.2', 'Hispanic Origin', 'Id.3', 'Id2', 'Geography', 'Total', 'Race Alone - White', 'Race Alone - Hispanic', 'Race Alone - Black or African American', 'Race Alone - American Indian and Alaska Native', 'Race Alone - Asian', 'Race Alone - Native Hawaiian and Other Pacific Islander', 'Two or More Races'], ['0', 'cen42010', 'April 1, 2010 Census', 'totsex', 'Both Sexes', 'tothisp', 'Total', '0100000US', 'NaN', 'United States', '308745538', '197318956', '44618105', '40250635', '3739506', '15159516', '674625', '6984195']]\n"
     ]
    }
   ],
   "source": [
    "f = open('census.csv')\n",
    "reader = csv.reader(f)\n",
    "census = list(reader)\n",
    "print(census)"
   ]
  },
  {
   "cell_type": "code",
   "execution_count": 17,
   "metadata": {
    "collapsed": false
   },
   "outputs": [
    {
     "name": "stdout",
     "output_type": "stream",
     "text": [
      "{'Asian/Pacific Islander': 15834141, 'Black': 40250635, 'Native American/Native Alaskan': 3739506, 'Hispanic': 44618105, 'White': 197318956}\n",
      "{'Asian/Pacific Islander': 8.374309664161762, 'White': 33.56849303419181, 'Native American/Native Alaskan': 24.521955573811088, 'Black': 57.8773477735196, 'Hispanic': 20.220491210910907}\n"
     ]
    }
   ],
   "source": [
    "mapping = {'Asian/Pacific Islander':int(census[1][15]) + int(census[1][16] )\n",
    "           ,'Black':int(census[1][13])\n",
    "           ,'Native American/Native Alaskan':int(census[1][14])\n",
    "           ,'Hispanic':int(census[1][12])\n",
    "           ,'White':int(census[1][11])}\n",
    "print(mapping)\n",
    "race_per_hundredk = {}\n",
    "for key,val in race_counts.items():\n",
    "    crime_number = val\n",
    "    pop = mapping[key]\n",
    "    crime_rate = crime_number / pop * 100000\n",
    "    race_per_hundredk[key] = crime_rate\n",
    "print(race_per_hundredk)    "
   ]
  },
  {
   "cell_type": "code",
   "execution_count": 14,
   "metadata": {
    "collapsed": false
   },
   "outputs": [
    {
     "name": "stdout",
     "output_type": "stream",
     "text": [
      "{'White': 9147, 'Asian/Pacific Islander': 559, 'Black': 19510, 'Native American/Native Alaskan': 326, 'Hispanic': 5634}\n",
      "{'White': 2.9626339085748987, 'Asian/Pacific Islander': 2.9578250133789994, 'Black': 43.7266441503959, 'Native American/Native Alaskan': 0.8099251104982568, 'Hispanic': 2.8552755975457322}\n"
     ]
    }
   ],
   "source": [
    "intents = [row[3] for row in data]\n",
    "homicide_race_per_hundredk = {}\n",
    "for i,race in enumerate(races):\n",
    "    if intents[i] == 'Homicide':\n",
    "        if(race in homicide_race_per_hundredk):\n",
    "            homicide_race_per_hundredk[race] += 1\n",
    "        else:\n",
    "            homicide_race_per_hundredk[race] = 1\n",
    "print(homicide_race_per_hundredk)\n",
    "\n",
    "for key,val in homicide_race_per_hundredk.items():\n",
    "    homicide_number = val\n",
    "    pop = mapping[key]\n",
    "    crime_rate = homicide_number / pop * 100000\n",
    "    homicide_race_per_hundredk[key] = crime_rate\n",
    "print(homicide_race_per_hundredk)   "
   ]
  },
  {
   "cell_type": "code",
   "execution_count": null,
   "metadata": {
    "collapsed": true
   },
   "outputs": [],
   "source": []
  }
 ],
 "metadata": {
  "kernelspec": {
   "display_name": "Python 3",
   "language": "python",
   "name": "python3"
  },
  "language_info": {
   "codemirror_mode": {
    "name": "ipython",
    "version": 3
   },
   "file_extension": ".py",
   "mimetype": "text/x-python",
   "name": "python",
   "nbconvert_exporter": "python",
   "pygments_lexer": "ipython3",
   "version": "3.6.0"
  }
 },
 "nbformat": 4,
 "nbformat_minor": 0
}
